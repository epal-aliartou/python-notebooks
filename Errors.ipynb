{
  "nbformat": 4,
  "nbformat_minor": 0,
  "metadata": {
    "colab": {
      "provenance": [],
      "authorship_tag": "ABX9TyOZhjSLqic7KaOi3l48bVxj",
      "include_colab_link": true
    },
    "kernelspec": {
      "name": "python3",
      "display_name": "Python 3"
    },
    "language_info": {
      "name": "python"
    }
  },
  "cells": [
    {
      "cell_type": "markdown",
      "metadata": {
        "id": "view-in-github",
        "colab_type": "text"
      },
      "source": [
        "<a href=\"https://colab.research.google.com/github/epal-aliartou/python-notebooks/blob/main/Errors.ipynb\" target=\"_parent\"><img src=\"https://colab.research.google.com/assets/colab-badge.svg\" alt=\"Open In Colab\"/></a>"
      ]
    },
    {
      "cell_type": "markdown",
      "source": [],
      "metadata": {
        "id": "DSafNxoxZAhm"
      }
    },
    {
      "cell_type": "code",
      "source": [
        "# Αυτό είναι ένα σχόλιο. Ότι βρίσκεται μετά την δίεση (δηλαδή #)  είναι σχόλιο\n",
        "# Μπορώ να γράψω ότι θέλω σε ένα σχόλιο\n",
        "# Ο διερμηνευτής της Python το θεωρεί Απλώς κείμενο και δεν το μεταφράζει\n",
        "print(\"Δοκιμαστικό μήνυμα στην Python\")\n",
        "print(\"Μία δεύτερη εντολή print θα τυπώσει καινούργια γραμμή\")\n",
        "print(\"Παράδειγμα\", \"με δύο strings\", \"ή παραπάνω\")\n",
        "\n",
        "\n"
      ],
      "metadata": {
        "colab": {
          "base_uri": "https://localhost:8080/"
        },
        "id": "VVzsUlUuU_DN",
        "outputId": "78c511cc-22fa-4836-c680-b6332d6f88aa"
      },
      "execution_count": 7,
      "outputs": [
        {
          "output_type": "stream",
          "name": "stdout",
          "text": [
            "Δοκιμαστικό μήνυμα στην Python\n",
            "Μία δεύτερη εντολή print θα τυπώσει καινούργια γραμμή\n",
            "Παράδειγμα με δύο strings ή παραπάνω\n"
          ]
        }
      ]
    },
    {
      "cell_type": "markdown",
      "source": [
        "Τα **συντακτικά λάθη**, που παράγονται από την Python όταν διερμηνεύει τον πηγαίο κώδικα. Συνήθως, υποδεικνύουν ότι υπάρχει κάποιο λάθος **στη σύνταξη του προγράμματος **(στη **δομή** και στους **κανόνες** αυτής). Ο διερμηνευτής **απαγορεύει την εκτέλεση** του προγράμματος και εμφανίζει σχετικό μήνυμα λάθους. \n"
      ],
      "metadata": {
        "id": "uYgHxm87Qs97"
      }
    },
    {
      "cell_type": "code",
      "execution_count": 2,
      "metadata": {
        "id": "y51yXveyOEHO",
        "colab": {
          "base_uri": "https://localhost:8080/",
          "height": 130
        },
        "outputId": "dbadab7a-ed7a-48c4-a2c8-62a845c44aff"
      },
      "outputs": [
        {
          "output_type": "error",
          "ename": "SyntaxError",
          "evalue": "ignored",
          "traceback": [
            "\u001b[0;36m  File \u001b[0;32m\"<ipython-input-2-9884b89865f0>\"\u001b[0;36m, line \u001b[0;32m6\u001b[0m\n\u001b[0;31m    print ('Ο μέσος όρος είναι'mo)\u001b[0m\n\u001b[0m                               ^\u001b[0m\n\u001b[0;31mSyntaxError\u001b[0m\u001b[0;31m:\u001b[0m invalid syntax\n"
          ]
        }
      ],
      "source": [
        "# Συντακτικά λάθη\n",
        "# Υπολογισμός μέσου όρου\n",
        "a=int(input('Δώστε τον πρώτο βαθμό:'))\n",
        "b=int(input('Δώστε τον δεύτερο βαθμό:'))\n",
        "mo=(a+b)/2\n",
        "print ('Ο μέσος όρος είναι'mo)"
      ]
    },
    {
      "cell_type": "markdown",
      "source": [
        "Τα **σημασιολογικά ή λογικά σφάλματα** που αποτελούν προβλήματα σε ένα πρόγραμμα το οποίο τρέχει χωρίς να παράγει κάποιο μήνυμα λάθους, **αλλά δεν κάνει αυτό που θα έπρεπε**. Αυτή είναι η **δυσκολότερη κατηγορία σφαλμάτων**, καθώς πρέπει να διατρέξουμε πολλές φορές όλο το πρόγραμμα, γραμμή προς γραμμή, για να καταλάβουμε που έχει γίνει λογικό λάθος."
      ],
      "metadata": {
        "id": "Bv3bA67HRF39"
      }
    },
    {
      "cell_type": "code",
      "source": [
        "# Σημασιολογικά ή Λογικά σφάλματα \n",
        "#Υπολογισμός μέσου όρου\n",
        "a=int(input('Δώστε τον πρώτο βαθμό:'))\n",
        "b=int(input('Δώστε τον δεύτερο βαθμό:'))\n",
        "mo=(a-b)/2\n",
        "print ('Ο μέσος όρος είναι', mo )\n"
      ],
      "metadata": {
        "id": "xuOpBL7fOpV3",
        "colab": {
          "base_uri": "https://localhost:8080/"
        },
        "outputId": "766c854d-5b6c-44ed-fc65-1044d804a726"
      },
      "execution_count": null,
      "outputs": [
        {
          "output_type": "stream",
          "name": "stdout",
          "text": [
            "Δώστε τον πρώτο βαθμό:5\n",
            "Δώστε τον δεύτερο βαθμό:6\n",
            "Ο μέσος όρος είναι -0.5\n"
          ]
        }
      ]
    },
    {
      "cell_type": "markdown",
      "source": [
        "Τα **σφάλματα χρόνου εκτέλεσης** που παράγονται από τον διερμηνευτή, αν πάει κάτι στραβά κατά την εκτέλεση του προγράμματος. Τα περισσότερα μηνύματα αυτών των σφαλμάτων περιέχουν πληροφορίες **σχετικά με το που συνέβη το σφάλμα** και τι συναρτήσεις εκτελούνταν \n",
        "\n",
        "`(εξαντλήθηκε η μνήμη, δεν έγινε σωστός χειρισμός και απαιτείται άπειρος χρόνος κ.ά. )`\n"
      ],
      "metadata": {
        "id": "9X47vOPWRVEr"
      }
    },
    {
      "cell_type": "code",
      "source": [
        "#Σφάλματα χρόνου εκτέλεσης \n",
        "#Υπολογισμός μέσου όρου\n",
        "a=int(input('Δώστε τον πρώτο βαθμό:'))\n",
        "b=int(input('Δώστε τον δεύτερο βαθμό:'))\n",
        "n=int(input('Πόσα είναι τα μαθήματα;'))\n",
        "mo=(a-b)/n\n",
        "print 'Ο μέσος όρος είναι',mo\n"
      ],
      "metadata": {
        "id": "ui3eSH4wP3Y2"
      },
      "execution_count": null,
      "outputs": []
    }
  ]
}